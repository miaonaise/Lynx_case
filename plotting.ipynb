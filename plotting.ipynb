{
  "nbformat": 4,
  "nbformat_minor": 0,
  "metadata": {
    "colab": {
      "name": "plotting.ipynb",
      "provenance": [],
      "collapsed_sections": [],
      "authorship_tag": "ABX9TyP0Swg7fm3IEOKWgFHIrU2k",
      "include_colab_link": true
    },
    "kernelspec": {
      "name": "python3",
      "display_name": "Python 3"
    },
    "language_info": {
      "name": "python"
    }
  },
  "cells": [
    {
      "cell_type": "markdown",
      "metadata": {
        "id": "view-in-github",
        "colab_type": "text"
      },
      "source": [
        "<a href=\"https://colab.research.google.com/github/miaonaise/Lynx_case/blob/main/plotting.ipynb\" target=\"_parent\"><img src=\"https://colab.research.google.com/assets/colab-badge.svg\" alt=\"Open In Colab\"/></a>"
      ]
    },
    {
      "cell_type": "code",
      "metadata": {
        "id": "smHX5fRQZCGf"
      },
      "source": [
        "import numpy as np\n",
        "import matplotlib.pyplot as plt\n",
        "import pandas as pd\n",
        "import seaborn as sns\n",
        "sns.set_theme()"
      ],
      "execution_count": null,
      "outputs": []
    },
    {
      "cell_type": "code",
      "metadata": {
        "id": "gdjaErn5kAsz"
      },
      "source": [
        "N = 10000\n",
        "x0 = np.random.normal(0, 1, N)\n",
        "x1 = np.random.normal(1 + 2 * x0, 1, N)\n",
        "x2 = np.random.normal(1 + 2 * x1, 1, N)\n",
        "\n",
        "X = np.hstack([x0.reshape(-1, 1), x1.reshape(-1, 1), x2.reshape(-1, 1)])\n",
        "M = np.mean(X, axis=0)\n",
        "S = np.cov(X.T)"
      ],
      "execution_count": null,
      "outputs": []
    },
    {
      "cell_type": "code",
      "metadata": {
        "colab": {
          "base_uri": "https://localhost:8080/"
        },
        "id": "nUdy1YRokK4V",
        "outputId": "2cdb2ada-a703-48cf-d78f-cbf648cdaa5f"
      },
      "source": [
        "X"
      ],
      "execution_count": null,
      "outputs": [
        {
          "output_type": "execute_result",
          "data": {
            "text/plain": [
              "array([[-0.68068173, -1.19776726, -0.95579332],\n",
              "       [-1.31490566, -2.71183058, -3.75686137],\n",
              "       [ 1.29359692,  5.83226929, 13.00316797],\n",
              "       ...,\n",
              "       [ 0.48870615,  2.54834728,  4.40787021],\n",
              "       [ 1.02164811,  3.30605061,  8.16766726],\n",
              "       [-0.2978534 ,  1.13639827,  4.17181518]])"
            ]
          },
          "metadata": {},
          "execution_count": 10
        }
      ]
    },
    {
      "cell_type": "code",
      "metadata": {
        "id": "3fEb7upvZOoH"
      },
      "source": [
        "def SubGraphHist(x, y, label):\n",
        "  # Input: ARRAY\n",
        "  # Let n = len(label) AND column length of y\n",
        "  # makes n subplots with 2 plots\n",
        "  # left plot is x vs y[:,i] and right plot is a histogram of y[:,i]\n",
        "\n",
        "  n = len(label)\n",
        "  for i in range(n):\n",
        "\n",
        "    fig, (ax1, ax2) = plt.subplots(1,2,figsize=(10, 3))\n",
        "    fig.suptitle(label[i])\n",
        "    ax1.plot(x,y[:,i])\n",
        "    ax2.hist(y[:,i],bins=70)"
      ],
      "execution_count": null,
      "outputs": []
    },
    {
      "cell_type": "code",
      "metadata": {
        "id": "iqBqrtwAQzuO"
      },
      "source": [
        "def DFSubGraphHist(df,df2 = None,xlim = 0.1,ylim = 1200, xlim2 = None):\n",
        "  # Input: DATAFRAME\n",
        "  # Let n = len(label) AND column length of y\n",
        "  # makes n subplots with 2 plots\n",
        "  # left plot is days vs item and right plot is a histogram of item\n",
        "\n",
        "  assets = df.columns[1:]\n",
        "  for item in assets:\n",
        "    fig, (ax1, ax2) = plt.subplots(1,2,figsize=(10, 3))\n",
        "    fig.suptitle(item)\n",
        "    ax1.plot(df['day'],df[item])\n",
        "    ax1.set_ylim(-xlim,xlim)\n",
        "    \n",
        "    if df2 is not None:\n",
        "      bin_w = xlim2/50\n",
        "      sns.histplot(df2[item],ax=ax2, kde = True, binwidth = bin_w,color = 'tab:gray')\n",
        "\n",
        "    bin_w = xlim/50\n",
        "    sns.histplot(df[item],ax=ax2, kde=True, binwidth = bin_w)\n",
        "    #ax2.hist(df[item],bins=70)\n",
        "    ax2.set_xlim(-xlim,xlim)\n",
        "    ax2.set_ylim(0,ylim)\n"
      ],
      "execution_count": null,
      "outputs": []
    },
    {
      "cell_type": "code",
      "metadata": {
        "id": "sDCqvtH-q-eo"
      },
      "source": [
        "def QQnormal(arr2D,label,y_label = \"logReturn\",std = 1):\n",
        "  # Input: ARRAY\n",
        "  # let n = len(label) AND column length of arr2D\n",
        "  # Make Q-Q plot of normal(0,0.1) against arr2D[:,i]\n",
        "\n",
        "  n = len(label)\n",
        "  m = len(arr2D)\n",
        "  normal = np.random.normal(scale = std, size = m)\n",
        "  normal.sort()\n",
        "  for i in range(n):\n",
        "    plt.figure()\n",
        "    plt.scatter(normal,np.sort(arr2D[:,i]))\n",
        "    plt.title(label[i])\n",
        "    plt.xlabel('normal quantiles')\n",
        "    plt.ylabel(y_label + 'quantiles')"
      ],
      "execution_count": null,
      "outputs": []
    },
    {
      "cell_type": "code",
      "metadata": {
        "id": "dmfo8aAXjk_L"
      },
      "source": [
        "def DFQQnormal(df,y_label = \"logReturn\"):\n",
        "  # Input: DATAFRAME\n",
        "  # Make Q-Q plot of lognormal(0,1) against each column in df scaled with its std\n",
        "\n",
        "  assets = df.columns[1:]\n",
        "  df_new = df.dropna().transform(np.sort)/df.std()\n",
        "  n = len(df_new)\n",
        "  lognormal = np.exp(np.random.normal(size = n))\n",
        "  lognormal.sort()\n",
        "  line = [min(lognormal),max(lognormal)]\n",
        "  for item in assets:\n",
        "    plt.figure(figsize = (3.5,3.5))\n",
        "    plt.scatter(lognormal,df_new[item])\n",
        "    plt.plot(line,line,'k')\n",
        "    plt.title(item)\n",
        "    plt.xlabel('lognormal quantiles')\n",
        "    plt.ylabel(y_label + ' quantiles')"
      ],
      "execution_count": null,
      "outputs": []
    },
    {
      "cell_type": "code",
      "metadata": {
        "id": "oQO6VoODcmeT"
      },
      "source": [
        "def DFSubGraphHist_volatility(df):\n",
        "  # Input: DATAFRAME\n",
        "  # Let n = len(label) AND column length of y\n",
        "  # makes n subplots with 2 plots\n",
        "  # left plot is days vs item and right plot is a histogram of item\n",
        "\n",
        "  assets = df.columns[1:]\n",
        "  for item in assets:\n",
        "    fig, (ax1, ax2) = plt.subplots(1,2,figsize=(10, 3))\n",
        "    fig.suptitle(item)\n",
        "    ax1.plot(df['day'],df[item])\n",
        "    #ax1.set_ylim(-xlim,xlim)\n",
        "\n",
        "    #bin_w = xlim/50\n",
        "    #sns.histplot(df[item],ax=ax2, kde=True, binwidth = bin_w)\n",
        "    ax2.hist(df[item],bins=70)\n",
        "    #ax2.set_xlim(-xlim,xlim)\n",
        "    #ax2.set_ylim(0,ylim)\n"
      ],
      "execution_count": null,
      "outputs": []
    },
    {
      "cell_type": "code",
      "metadata": {
        "id": "HHpw7vkCDD3m"
      },
      "source": [
        "def DFQQlognormal(df,y_label = \"volatility\"):\n",
        "  # Input: DATAFRAME\n",
        "  # Make Q-Q plot of normal(0,1) against each column in df scaled with its std\n",
        "\n",
        "  assets = df.columns[1:]\n",
        "  df_new = df.dropna()\n",
        "  \n",
        "  logs = np.log(df_new)\n",
        "  nlogs = ((logs - logs.mean())/logs.std()).transform(np.sort)\n",
        "  \n",
        "  n = len(nlogs)\n",
        "  normal = np.random.normal(size = n)\n",
        "  normal.sort()\n",
        "  line = [min(normal),max(normal)]\n",
        "\n",
        "  for item in assets:\n",
        "    plt.figure(figsize = (3.5,3.5))\n",
        "    plt.scatter(normal,nlogs[item])\n",
        "    plt.plot(line,line,'k')\n",
        "    plt.title(item)\n",
        "    plt.xlabel('lognormal quantiles')\n",
        "    plt.ylabel(y_label + ' quantiles')"
      ],
      "execution_count": null,
      "outputs": []
    }
  ]
}